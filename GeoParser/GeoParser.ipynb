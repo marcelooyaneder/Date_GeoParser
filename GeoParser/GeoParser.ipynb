{
 "cells": [
  {
   "cell_type": "code",
   "execution_count": 1,
   "metadata": {},
   "outputs": [],
   "source": [
    "#!pip install pyproj\n",
    "#!pip install request"
   ]
  },
  {
   "cell_type": "markdown",
   "metadata": {},
   "source": [
    "# MANUAL SKETCHBOOK\n",
    "\n",
    "La finalidad de este software es completar la mayor cantidad de información del estandar Darwin Core a partir de un par de coordenadas, *importante hacer notar que este software hasta el momento no realiza ningun tipo de georreferenciación, solo rellena datos*, esto se realiza a partir de un set de coordenadas, esta pueden ser del campo verbatimCoordinates o decimalLatitude y decimalLongitude, pertenecientes al estandar. Con estos datos será completar los siguientes campos, si es que se encuentra la información necesaria. \n",
    "\n",
    "- higherGeography \n",
    "- continent \n",
    "- country \n",
    "- countryCode \n",
    "- stateProvince \n",
    "- county \n",
    "- municipality \n",
    "- decimalLongitude, decimalLatitude\n",
    "- geodeticDatum \n",
    "- coordinatePrecision \n",
    "- verbatimLatitude, verbatimLongitude\n",
    "- verbatimCoordinateSystem \n",
    "\n",
    "Hasta el momento no se ha podido probar la localización de localidades marinas, pero es un trabajo en progreso. \n",
    "\n",
    "Este script se divide en dos clases\n",
    "\n",
    "- Preparación de la base de datos (db_prep)\n",
    "- Transformación de coordenadas (coord_transform) \n",
    "\n",
    "## Preparación de la base de datos\n",
    "\n",
    "Esta clase recibe el nombre de \"db_prep\" y necesita como entrada una base de datos con algunos componentes mínimos del estandar Darwin Core (DwC) para su realización.\n",
    "\n",
    "\n",
    "\n",
    "## Transformación de coordenadas "
   ]
  },
  {
   "cell_type": "markdown",
   "metadata": {},
   "source": [
    "- El campo verbatimCoordintes debe tener las coordenadas en el siguiente formato (dejar en georeferenceRemarks las coordenadas como vienen en su etiqueta original)\n",
    "        -En el caso de coordenadas en grados minutos y segundos gg°mm'ss\" S, gg°mm'ss\" W o gg°mm'ss\" N, gg°mm'ss\" E la importancia radica que debes estar separadas por una coma, misma situación para grados y minutos decimales\n",
    "        -En el caso de UTM deben ser escritas de la siguiente forma 308617 6272156 19S, la importancia esta que se encuentren separadas por espacio. \n",
    "    "
   ]
  },
  {
   "cell_type": "code",
   "execution_count": 2,
   "metadata": {},
   "outputs": [],
   "source": [
    "#from pyproj import Proj #no se está usando por el momento\n",
    "import utm\n",
    "import requests\n",
    "import json\n",
    "import pandas as pd\n",
    "import numpy as np\n",
    "import math\n",
    "import re\n",
    "from GeoParser import *\n",
    "#from geopy.geocoders import Nominatim #FASTER than api"
   ]
  },
  {
   "cell_type": "markdown",
   "metadata": {},
   "source": [
    "# TESTING..."
   ]
  },
  {
   "cell_type": "code",
   "execution_count": 3,
   "metadata": {
    "scrolled": true
   },
   "outputs": [],
   "source": [
    "import pandas as pd\n",
    "data=pd.read_csv(\"new_georref.csv\")"
   ]
  },
  {
   "cell_type": "code",
   "execution_count": 4,
   "metadata": {},
   "outputs": [
    {
     "output_type": "stream",
     "name": "stdout",
     "text": [
      "Wall time: 176 ms\n"
     ]
    }
   ],
   "source": [
    "%%time\n",
    "#Testing...\n",
    "db_prep(data).verbatimCoordinates_autocomplete()\n",
    "db_prep(data).verbatimCoordinateSystem_autocomplete()\n",
    "db_prep(data).verb_lat_long_autocomplete()\n",
    "db_prep(data).coordinatePrecision_autocomplete()"
   ]
  },
  {
   "cell_type": "code",
   "execution_count": 5,
   "metadata": {},
   "outputs": [
    {
     "output_type": "stream",
     "name": "stdout",
     "text": [
      "Wall time: 2min 17s\n"
     ]
    }
   ],
   "source": [
    "%%time\n",
    "# Testing ...\n",
    "#coord_transform(data).utm_to_dg()\n",
    "coord_transform(data).dms_to_dg()\n",
    "coord_transform(data).geodeticDatum_autocomplete()  \n",
    "coord_transform(data).location_autocomplete() \n",
    "coord_transform(data).continent_autocomplete() \n",
    "coord_transform(data).higherGeography_autocomplete() "
   ]
  },
  {
   "cell_type": "code",
   "execution_count": 6,
   "metadata": {
    "scrolled": true
   },
   "outputs": [
    {
     "output_type": "execute_result",
     "data": {
      "text/plain": [
       "                                       higherGeography waterBody  \\\n",
       "18   South America | Chile | CL | Araucanía | Cautí...       NaN   \n",
       "21   South America | Chile | CL | Araucanía | Cautí...       NaN   \n",
       "28   South America | Chile | CL | Araucanía | Cautí...       NaN   \n",
       "29   South America | Chile | CL | Araucanía | Malle...       NaN   \n",
       "34   South America | Chile | CL | Atacama | Chañara...       NaN   \n",
       "67   South America | Chile | CL | Los Lagos | Llanq...       NaN   \n",
       "94                                                 NaN       NaN   \n",
       "100  South America | Chile | CL | Valparaíso | ísla...       NaN   \n",
       "107  South America | Chile | CL | Valparaíso | ísla...       NaN   \n",
       "\n",
       "         continent country countryCode stateProvince          county  \\\n",
       "18   South America   Chile          CL     Araucanía          Cautín   \n",
       "21   South America   Chile          CL     Araucanía          Cautín   \n",
       "28   South America   Chile          CL     Araucanía          Cautín   \n",
       "29   South America   Chile          CL     Araucanía         Malleco   \n",
       "34   South America   Chile          CL       Atacama        Chañaral   \n",
       "67   South America   Chile          CL     Los Lagos      Llanquihue   \n",
       "94             NaN     NaN         NaN           NaN             NaN   \n",
       "100  South America   Chile          CL    Valparaíso  ísla de Pascua   \n",
       "107  South America   Chile          CL    Valparaíso  ísla de Pascua   \n",
       "\n",
       "       municipality  islandGroup  island  ... verbatimLongitude  \\\n",
       "18           Vilcun          NaN     NaN  ...     72°2'0.000\" W   \n",
       "21   Nueva Imperial          NaN     NaN  ...    72°35'0.000\" W   \n",
       "28            Cunco          NaN     NaN  ...    72°15'0.000\" W   \n",
       "29       Curacautin          NaN     NaN  ...    71°44'0.000\" W   \n",
       "34         Chanaral          NaN     NaN  ...    70°39'2.488\" W   \n",
       "67     Puerto Varas          NaN     NaN  ...    72°18'0.000\" W   \n",
       "94              NaN          NaN     NaN  ...               NaN   \n",
       "100   Ocean Islands          NaN     NaN  ...    80°46'0.000\" W   \n",
       "107   Ocean Islands          NaN     NaN  ...    78°51'0.000\" W   \n",
       "\n",
       "    verbatimCoordinateSystem  verbatimSRS  georeferencedBy georeferencedDate  \\\n",
       "18   degrees minutes seconds          NaN       M. Treumun        2018-09-07   \n",
       "21   degrees minutes seconds          NaN       M. Treumun        2018-09-07   \n",
       "28   degrees minutes seconds          NaN       M. Treumun        2018-09-07   \n",
       "29   degrees minutes seconds          NaN       M. Treumun        2018-09-07   \n",
       "34   degrees minutes seconds          NaN       M. Treumun        2018-09-07   \n",
       "67   degrees minutes seconds          NaN       M. Treumun        2018-09-07   \n",
       "94                       NaN          NaN      Charif Tala               NaN   \n",
       "100  degrees minutes seconds          NaN       M. Treumun        2018-09-07   \n",
       "107  degrees minutes seconds          NaN       M. Treumun        2018-09-07   \n",
       "\n",
       "     georeferenceProtocol  georeferenceSources  \\\n",
       "18                    NaN                  NaN   \n",
       "21                    NaN                  NaN   \n",
       "28                    NaN                  NaN   \n",
       "29                    NaN                  NaN   \n",
       "34                    NaN                  NaN   \n",
       "67                    NaN                  NaN   \n",
       "94                    NaN         Google Earth   \n",
       "100                   NaN                  NaN   \n",
       "107                   NaN                  NaN   \n",
       "\n",
       "     georeferenceVerificationStatus     georeferenceRemarks  \\\n",
       "18                              NaN  En base a la localidad   \n",
       "21                              NaN  En base a la localidad   \n",
       "28                              NaN  En base a la localidad   \n",
       "29                              NaN  En base a la localidad   \n",
       "34                              NaN  En base a la localidad   \n",
       "67                              NaN  En base a la localidad   \n",
       "94                              NaN                     NaN   \n",
       "100                             NaN  En base a la localidad   \n",
       "107                             NaN  En base a la localidad   \n",
       "\n",
       "                                       localityid  \n",
       "18   DJK/F1K+y0BrVZJC8WqhXXao9psawnd3vgcIBmDwEkM=  \n",
       "21   3y8XajQtDujwAH0aRMXw9TlaiVTjUIFoZ3pKML4qLTY=  \n",
       "28   VynSmlTthK9N7jVp8xoEWOQzHgn45zpG2QBAG2dYQC8=  \n",
       "29   dj2qw/5FanHksCpVG/Jci5vD3Vsyvld74Dg3xXVb3VQ=  \n",
       "34   yDNfsPgjmET2GM8++vd4OK+wJqPKUpvBVsYK/JiLO0k=  \n",
       "67   Z+pWP41/ZGyg01I+zJfdZUWmeWLEjQb5RUmocDhAIcs=  \n",
       "94   4eEDc0BC/RD2KMddqR/tZEaBxbe9xL+WbWwLst9Y4Xo=  \n",
       "100  MyUBTfNzm5z0nwL3PkLxvLqv16cWRzWXXgqY6I4rGs0=  \n",
       "107  YCgWdFqJbtrW1Yv4keFu6Ld+IpjfOChW5WP7u/oYAoM=  \n",
       "\n",
       "[9 rows x 38 columns]"
      ],
      "text/html": "<div>\n<style scoped>\n    .dataframe tbody tr th:only-of-type {\n        vertical-align: middle;\n    }\n\n    .dataframe tbody tr th {\n        vertical-align: top;\n    }\n\n    .dataframe thead th {\n        text-align: right;\n    }\n</style>\n<table border=\"1\" class=\"dataframe\">\n  <thead>\n    <tr style=\"text-align: right;\">\n      <th></th>\n      <th>higherGeography</th>\n      <th>waterBody</th>\n      <th>continent</th>\n      <th>country</th>\n      <th>countryCode</th>\n      <th>stateProvince</th>\n      <th>county</th>\n      <th>municipality</th>\n      <th>islandGroup</th>\n      <th>island</th>\n      <th>...</th>\n      <th>verbatimLongitude</th>\n      <th>verbatimCoordinateSystem</th>\n      <th>verbatimSRS</th>\n      <th>georeferencedBy</th>\n      <th>georeferencedDate</th>\n      <th>georeferenceProtocol</th>\n      <th>georeferenceSources</th>\n      <th>georeferenceVerificationStatus</th>\n      <th>georeferenceRemarks</th>\n      <th>localityid</th>\n    </tr>\n  </thead>\n  <tbody>\n    <tr>\n      <th>18</th>\n      <td>South America | Chile | CL | Araucanía | Cautí...</td>\n      <td>NaN</td>\n      <td>South America</td>\n      <td>Chile</td>\n      <td>CL</td>\n      <td>Araucanía</td>\n      <td>Cautín</td>\n      <td>Vilcun</td>\n      <td>NaN</td>\n      <td>NaN</td>\n      <td>...</td>\n      <td>72°2'0.000\" W</td>\n      <td>degrees minutes seconds</td>\n      <td>NaN</td>\n      <td>M. Treumun</td>\n      <td>2018-09-07</td>\n      <td>NaN</td>\n      <td>NaN</td>\n      <td>NaN</td>\n      <td>En base a la localidad</td>\n      <td>DJK/F1K+y0BrVZJC8WqhXXao9psawnd3vgcIBmDwEkM=</td>\n    </tr>\n    <tr>\n      <th>21</th>\n      <td>South America | Chile | CL | Araucanía | Cautí...</td>\n      <td>NaN</td>\n      <td>South America</td>\n      <td>Chile</td>\n      <td>CL</td>\n      <td>Araucanía</td>\n      <td>Cautín</td>\n      <td>Nueva Imperial</td>\n      <td>NaN</td>\n      <td>NaN</td>\n      <td>...</td>\n      <td>72°35'0.000\" W</td>\n      <td>degrees minutes seconds</td>\n      <td>NaN</td>\n      <td>M. Treumun</td>\n      <td>2018-09-07</td>\n      <td>NaN</td>\n      <td>NaN</td>\n      <td>NaN</td>\n      <td>En base a la localidad</td>\n      <td>3y8XajQtDujwAH0aRMXw9TlaiVTjUIFoZ3pKML4qLTY=</td>\n    </tr>\n    <tr>\n      <th>28</th>\n      <td>South America | Chile | CL | Araucanía | Cautí...</td>\n      <td>NaN</td>\n      <td>South America</td>\n      <td>Chile</td>\n      <td>CL</td>\n      <td>Araucanía</td>\n      <td>Cautín</td>\n      <td>Cunco</td>\n      <td>NaN</td>\n      <td>NaN</td>\n      <td>...</td>\n      <td>72°15'0.000\" W</td>\n      <td>degrees minutes seconds</td>\n      <td>NaN</td>\n      <td>M. Treumun</td>\n      <td>2018-09-07</td>\n      <td>NaN</td>\n      <td>NaN</td>\n      <td>NaN</td>\n      <td>En base a la localidad</td>\n      <td>VynSmlTthK9N7jVp8xoEWOQzHgn45zpG2QBAG2dYQC8=</td>\n    </tr>\n    <tr>\n      <th>29</th>\n      <td>South America | Chile | CL | Araucanía | Malle...</td>\n      <td>NaN</td>\n      <td>South America</td>\n      <td>Chile</td>\n      <td>CL</td>\n      <td>Araucanía</td>\n      <td>Malleco</td>\n      <td>Curacautin</td>\n      <td>NaN</td>\n      <td>NaN</td>\n      <td>...</td>\n      <td>71°44'0.000\" W</td>\n      <td>degrees minutes seconds</td>\n      <td>NaN</td>\n      <td>M. Treumun</td>\n      <td>2018-09-07</td>\n      <td>NaN</td>\n      <td>NaN</td>\n      <td>NaN</td>\n      <td>En base a la localidad</td>\n      <td>dj2qw/5FanHksCpVG/Jci5vD3Vsyvld74Dg3xXVb3VQ=</td>\n    </tr>\n    <tr>\n      <th>34</th>\n      <td>South America | Chile | CL | Atacama | Chañara...</td>\n      <td>NaN</td>\n      <td>South America</td>\n      <td>Chile</td>\n      <td>CL</td>\n      <td>Atacama</td>\n      <td>Chañaral</td>\n      <td>Chanaral</td>\n      <td>NaN</td>\n      <td>NaN</td>\n      <td>...</td>\n      <td>70°39'2.488\" W</td>\n      <td>degrees minutes seconds</td>\n      <td>NaN</td>\n      <td>M. Treumun</td>\n      <td>2018-09-07</td>\n      <td>NaN</td>\n      <td>NaN</td>\n      <td>NaN</td>\n      <td>En base a la localidad</td>\n      <td>yDNfsPgjmET2GM8++vd4OK+wJqPKUpvBVsYK/JiLO0k=</td>\n    </tr>\n    <tr>\n      <th>67</th>\n      <td>South America | Chile | CL | Los Lagos | Llanq...</td>\n      <td>NaN</td>\n      <td>South America</td>\n      <td>Chile</td>\n      <td>CL</td>\n      <td>Los Lagos</td>\n      <td>Llanquihue</td>\n      <td>Puerto Varas</td>\n      <td>NaN</td>\n      <td>NaN</td>\n      <td>...</td>\n      <td>72°18'0.000\" W</td>\n      <td>degrees minutes seconds</td>\n      <td>NaN</td>\n      <td>M. Treumun</td>\n      <td>2018-09-07</td>\n      <td>NaN</td>\n      <td>NaN</td>\n      <td>NaN</td>\n      <td>En base a la localidad</td>\n      <td>Z+pWP41/ZGyg01I+zJfdZUWmeWLEjQb5RUmocDhAIcs=</td>\n    </tr>\n    <tr>\n      <th>94</th>\n      <td>NaN</td>\n      <td>NaN</td>\n      <td>NaN</td>\n      <td>NaN</td>\n      <td>NaN</td>\n      <td>NaN</td>\n      <td>NaN</td>\n      <td>NaN</td>\n      <td>NaN</td>\n      <td>NaN</td>\n      <td>...</td>\n      <td>NaN</td>\n      <td>NaN</td>\n      <td>NaN</td>\n      <td>Charif Tala</td>\n      <td>NaN</td>\n      <td>NaN</td>\n      <td>Google Earth</td>\n      <td>NaN</td>\n      <td>NaN</td>\n      <td>4eEDc0BC/RD2KMddqR/tZEaBxbe9xL+WbWwLst9Y4Xo=</td>\n    </tr>\n    <tr>\n      <th>100</th>\n      <td>South America | Chile | CL | Valparaíso | ísla...</td>\n      <td>NaN</td>\n      <td>South America</td>\n      <td>Chile</td>\n      <td>CL</td>\n      <td>Valparaíso</td>\n      <td>ísla de Pascua</td>\n      <td>Ocean Islands</td>\n      <td>NaN</td>\n      <td>NaN</td>\n      <td>...</td>\n      <td>80°46'0.000\" W</td>\n      <td>degrees minutes seconds</td>\n      <td>NaN</td>\n      <td>M. Treumun</td>\n      <td>2018-09-07</td>\n      <td>NaN</td>\n      <td>NaN</td>\n      <td>NaN</td>\n      <td>En base a la localidad</td>\n      <td>MyUBTfNzm5z0nwL3PkLxvLqv16cWRzWXXgqY6I4rGs0=</td>\n    </tr>\n    <tr>\n      <th>107</th>\n      <td>South America | Chile | CL | Valparaíso | ísla...</td>\n      <td>NaN</td>\n      <td>South America</td>\n      <td>Chile</td>\n      <td>CL</td>\n      <td>Valparaíso</td>\n      <td>ísla de Pascua</td>\n      <td>Ocean Islands</td>\n      <td>NaN</td>\n      <td>NaN</td>\n      <td>...</td>\n      <td>78°51'0.000\" W</td>\n      <td>degrees minutes seconds</td>\n      <td>NaN</td>\n      <td>M. Treumun</td>\n      <td>2018-09-07</td>\n      <td>NaN</td>\n      <td>NaN</td>\n      <td>NaN</td>\n      <td>En base a la localidad</td>\n      <td>YCgWdFqJbtrW1Yv4keFu6Ld+IpjfOChW5WP7u/oYAoM=</td>\n    </tr>\n  </tbody>\n</table>\n<p>9 rows × 38 columns</p>\n</div>"
     },
     "metadata": {},
     "execution_count": 6
    }
   ],
   "source": [
    "data.query(\"verbatimCoordinates.notna()\")"
   ]
  },
  {
   "cell_type": "code",
   "execution_count": 7,
   "metadata": {
    "scrolled": true
   },
   "outputs": [
    {
     "output_type": "execute_result",
     "data": {
      "text/plain": [
       "                                       higherGeography  \\\n",
       "0    South America | Chile | CL | Araucanía | Malle...   \n",
       "1                                                  NaN   \n",
       "2                          South-Eastern Pacific Ocean   \n",
       "3                          South-Eastern Pacific Ocean   \n",
       "4                                                  NaN   \n",
       "..                                                 ...   \n",
       "105  South America | Chile | CL | Región Metropolit...   \n",
       "106                                                NaN   \n",
       "107  South America | Chile | CL | Valparaíso | ísla...   \n",
       "108                        South-Eastern Pacific Ocean   \n",
       "109                                                NaN   \n",
       "\n",
       "                       waterBody      continent country countryCode  \\\n",
       "0                            NaN  South America   Chile          CL   \n",
       "1                            NaN            NaN     NaN         NaN   \n",
       "2    South-Eastern Pacific Ocean            NaN     NaN         NaN   \n",
       "3    South-Eastern Pacific Ocean            NaN     NaN         NaN   \n",
       "4                            NaN            NaN     NaN         NaN   \n",
       "..                           ...            ...     ...         ...   \n",
       "105                          NaN  South America   Chile          CL   \n",
       "106                          NaN  South America   Chile          CL   \n",
       "107                          NaN  South America   Chile          CL   \n",
       "108  South-Eastern Pacific Ocean            NaN     NaN         NaN   \n",
       "109                          NaN  South America   Chile          CL   \n",
       "\n",
       "                        stateProvince          county   municipality  \\\n",
       "0                           Araucanía         Malleco      Lonquimay   \n",
       "1                                 NaN             NaN            NaN   \n",
       "2                                 NaN             NaN            NaN   \n",
       "3                                 NaN             NaN            NaN   \n",
       "4                                 NaN             NaN            NaN   \n",
       "..                                ...             ...            ...   \n",
       "105  Región Metropolitana de Santiago      Valparaíso       Hijuelas   \n",
       "106                        Valparaíso      Valparaíso     Valparaiso   \n",
       "107                        Valparaíso  ísla de Pascua  Ocean Islands   \n",
       "108                               NaN             NaN            NaN   \n",
       "109                        Valparaíso       Los Andes      Los Andes   \n",
       "\n",
       "     islandGroup  island  ... verbatimLongitude verbatimCoordinateSystem  \\\n",
       "0            NaN     NaN  ...               NaN                      NaN   \n",
       "1            NaN     NaN  ...               NaN                      NaN   \n",
       "2            NaN     NaN  ...               NaN                      NaN   \n",
       "3            NaN     NaN  ...               NaN                      NaN   \n",
       "4            NaN     NaN  ...               NaN                      NaN   \n",
       "..           ...     ...  ...               ...                      ...   \n",
       "105          NaN     NaN  ...               NaN                      NaN   \n",
       "106          NaN     NaN  ...               NaN                      NaN   \n",
       "107          NaN     NaN  ...    78°51'0.000\" W  degrees minutes seconds   \n",
       "108          NaN     NaN  ...               NaN                      NaN   \n",
       "109          NaN     NaN  ...               NaN                      NaN   \n",
       "\n",
       "     verbatimSRS  georeferencedBy georeferencedDate  georeferenceProtocol  \\\n",
       "0            NaN      Charif Tala               NaN                   NaN   \n",
       "1            NaN              NaN               NaN                   NaN   \n",
       "2            NaN              NaN               NaN                   NaN   \n",
       "3            NaN              NaN               NaN                   NaN   \n",
       "4            NaN              NaN               NaN                   NaN   \n",
       "..           ...              ...               ...                   ...   \n",
       "105          NaN      Charif Tala               NaN                   NaN   \n",
       "106          NaN              NaN               NaN                   NaN   \n",
       "107          NaN       M. Treumun        2018-09-07                   NaN   \n",
       "108          NaN              NaN               NaN                   NaN   \n",
       "109          NaN              NaN               NaN                   NaN   \n",
       "\n",
       "                                   georeferenceSources  \\\n",
       "0                                         Google Earth   \n",
       "1                                                  NaN   \n",
       "2                                                  NaN   \n",
       "3                                                  NaN   \n",
       "4                                                  NaN   \n",
       "..                                                 ...   \n",
       "105                                       Google Earth   \n",
       "106  https://www.geonames.org | Google Earth | http...   \n",
       "107                                                NaN   \n",
       "108                                                NaN   \n",
       "109  https://www.geonames.org | Google Earth | http...   \n",
       "\n",
       "     georeferenceVerificationStatus  \\\n",
       "0                               NaN   \n",
       "1                               NaN   \n",
       "2                               NaN   \n",
       "3                               NaN   \n",
       "4                               NaN   \n",
       "..                              ...   \n",
       "105                             NaN   \n",
       "106                             NaN   \n",
       "107                             NaN   \n",
       "108                             NaN   \n",
       "109                             NaN   \n",
       "\n",
       "                                   georeferenceRemarks  \\\n",
       "0                                                  NaN   \n",
       "1                                                  NaN   \n",
       "2                                                  NaN   \n",
       "3                                                  NaN   \n",
       "4                                                  NaN   \n",
       "..                                                 ...   \n",
       "105                                                NaN   \n",
       "106  Georreferenciado a través de GeoNames, Geoloca...   \n",
       "107                             En base a la localidad   \n",
       "108                                                NaN   \n",
       "109  Georreferenciado a través de GeoNames, Geoloca...   \n",
       "\n",
       "                                       localityid  \n",
       "0    TxmVXS0HuObUcicDzF9JBaWNHK4C/tiPdf9jxpTLMqU=  \n",
       "1    WRYd0YGi5ik2bvvJRhC1Ynf4OyfzirN66qbhuD3Fgfc=  \n",
       "2    TtMBF2hQMfzrgMVqyIbTHRP0UF9v4Qn8uNonMtuye/s=  \n",
       "3    gSE0qlewC1j4UoKOU2+A5amKtzc1j/I5h2bhjv2d+Q8=  \n",
       "4    Tw11N7qFI/XzbJam2Z1HHIoLjzOfoRsDpZEPw5+W4tU=  \n",
       "..                                            ...  \n",
       "105  rbPp7LlP8R78/VBHQiWfqA51+qeeu62rJ8XODXqBm/c=  \n",
       "106  HVoHXv8ifqVeUCAYhiDRTuyKmqixjppKV3bwVx7MAbw=  \n",
       "107  YCgWdFqJbtrW1Yv4keFu6Ld+IpjfOChW5WP7u/oYAoM=  \n",
       "108  /0h1tIuArvSEx1ktY3JjnXCcHGrefNvWljHHsTqfcAs=  \n",
       "109  0pjicG7PG7L8583buCEHxwZEMaMUaysKt+Cjr4B+Edk=  \n",
       "\n",
       "[110 rows x 38 columns]"
      ],
      "text/html": "<div>\n<style scoped>\n    .dataframe tbody tr th:only-of-type {\n        vertical-align: middle;\n    }\n\n    .dataframe tbody tr th {\n        vertical-align: top;\n    }\n\n    .dataframe thead th {\n        text-align: right;\n    }\n</style>\n<table border=\"1\" class=\"dataframe\">\n  <thead>\n    <tr style=\"text-align: right;\">\n      <th></th>\n      <th>higherGeography</th>\n      <th>waterBody</th>\n      <th>continent</th>\n      <th>country</th>\n      <th>countryCode</th>\n      <th>stateProvince</th>\n      <th>county</th>\n      <th>municipality</th>\n      <th>islandGroup</th>\n      <th>island</th>\n      <th>...</th>\n      <th>verbatimLongitude</th>\n      <th>verbatimCoordinateSystem</th>\n      <th>verbatimSRS</th>\n      <th>georeferencedBy</th>\n      <th>georeferencedDate</th>\n      <th>georeferenceProtocol</th>\n      <th>georeferenceSources</th>\n      <th>georeferenceVerificationStatus</th>\n      <th>georeferenceRemarks</th>\n      <th>localityid</th>\n    </tr>\n  </thead>\n  <tbody>\n    <tr>\n      <th>0</th>\n      <td>South America | Chile | CL | Araucanía | Malle...</td>\n      <td>NaN</td>\n      <td>South America</td>\n      <td>Chile</td>\n      <td>CL</td>\n      <td>Araucanía</td>\n      <td>Malleco</td>\n      <td>Lonquimay</td>\n      <td>NaN</td>\n      <td>NaN</td>\n      <td>...</td>\n      <td>NaN</td>\n      <td>NaN</td>\n      <td>NaN</td>\n      <td>Charif Tala</td>\n      <td>NaN</td>\n      <td>NaN</td>\n      <td>Google Earth</td>\n      <td>NaN</td>\n      <td>NaN</td>\n      <td>TxmVXS0HuObUcicDzF9JBaWNHK4C/tiPdf9jxpTLMqU=</td>\n    </tr>\n    <tr>\n      <th>1</th>\n      <td>NaN</td>\n      <td>NaN</td>\n      <td>NaN</td>\n      <td>NaN</td>\n      <td>NaN</td>\n      <td>NaN</td>\n      <td>NaN</td>\n      <td>NaN</td>\n      <td>NaN</td>\n      <td>NaN</td>\n      <td>...</td>\n      <td>NaN</td>\n      <td>NaN</td>\n      <td>NaN</td>\n      <td>NaN</td>\n      <td>NaN</td>\n      <td>NaN</td>\n      <td>NaN</td>\n      <td>NaN</td>\n      <td>NaN</td>\n      <td>WRYd0YGi5ik2bvvJRhC1Ynf4OyfzirN66qbhuD3Fgfc=</td>\n    </tr>\n    <tr>\n      <th>2</th>\n      <td>South-Eastern Pacific Ocean</td>\n      <td>South-Eastern Pacific Ocean</td>\n      <td>NaN</td>\n      <td>NaN</td>\n      <td>NaN</td>\n      <td>NaN</td>\n      <td>NaN</td>\n      <td>NaN</td>\n      <td>NaN</td>\n      <td>NaN</td>\n      <td>...</td>\n      <td>NaN</td>\n      <td>NaN</td>\n      <td>NaN</td>\n      <td>NaN</td>\n      <td>NaN</td>\n      <td>NaN</td>\n      <td>NaN</td>\n      <td>NaN</td>\n      <td>NaN</td>\n      <td>TtMBF2hQMfzrgMVqyIbTHRP0UF9v4Qn8uNonMtuye/s=</td>\n    </tr>\n    <tr>\n      <th>3</th>\n      <td>South-Eastern Pacific Ocean</td>\n      <td>South-Eastern Pacific Ocean</td>\n      <td>NaN</td>\n      <td>NaN</td>\n      <td>NaN</td>\n      <td>NaN</td>\n      <td>NaN</td>\n      <td>NaN</td>\n      <td>NaN</td>\n      <td>NaN</td>\n      <td>...</td>\n      <td>NaN</td>\n      <td>NaN</td>\n      <td>NaN</td>\n      <td>NaN</td>\n      <td>NaN</td>\n      <td>NaN</td>\n      <td>NaN</td>\n      <td>NaN</td>\n      <td>NaN</td>\n      <td>gSE0qlewC1j4UoKOU2+A5amKtzc1j/I5h2bhjv2d+Q8=</td>\n    </tr>\n    <tr>\n      <th>4</th>\n      <td>NaN</td>\n      <td>NaN</td>\n      <td>NaN</td>\n      <td>NaN</td>\n      <td>NaN</td>\n      <td>NaN</td>\n      <td>NaN</td>\n      <td>NaN</td>\n      <td>NaN</td>\n      <td>NaN</td>\n      <td>...</td>\n      <td>NaN</td>\n      <td>NaN</td>\n      <td>NaN</td>\n      <td>NaN</td>\n      <td>NaN</td>\n      <td>NaN</td>\n      <td>NaN</td>\n      <td>NaN</td>\n      <td>NaN</td>\n      <td>Tw11N7qFI/XzbJam2Z1HHIoLjzOfoRsDpZEPw5+W4tU=</td>\n    </tr>\n    <tr>\n      <th>...</th>\n      <td>...</td>\n      <td>...</td>\n      <td>...</td>\n      <td>...</td>\n      <td>...</td>\n      <td>...</td>\n      <td>...</td>\n      <td>...</td>\n      <td>...</td>\n      <td>...</td>\n      <td>...</td>\n      <td>...</td>\n      <td>...</td>\n      <td>...</td>\n      <td>...</td>\n      <td>...</td>\n      <td>...</td>\n      <td>...</td>\n      <td>...</td>\n      <td>...</td>\n      <td>...</td>\n    </tr>\n    <tr>\n      <th>105</th>\n      <td>South America | Chile | CL | Región Metropolit...</td>\n      <td>NaN</td>\n      <td>South America</td>\n      <td>Chile</td>\n      <td>CL</td>\n      <td>Región Metropolitana de Santiago</td>\n      <td>Valparaíso</td>\n      <td>Hijuelas</td>\n      <td>NaN</td>\n      <td>NaN</td>\n      <td>...</td>\n      <td>NaN</td>\n      <td>NaN</td>\n      <td>NaN</td>\n      <td>Charif Tala</td>\n      <td>NaN</td>\n      <td>NaN</td>\n      <td>Google Earth</td>\n      <td>NaN</td>\n      <td>NaN</td>\n      <td>rbPp7LlP8R78/VBHQiWfqA51+qeeu62rJ8XODXqBm/c=</td>\n    </tr>\n    <tr>\n      <th>106</th>\n      <td>NaN</td>\n      <td>NaN</td>\n      <td>South America</td>\n      <td>Chile</td>\n      <td>CL</td>\n      <td>Valparaíso</td>\n      <td>Valparaíso</td>\n      <td>Valparaiso</td>\n      <td>NaN</td>\n      <td>NaN</td>\n      <td>...</td>\n      <td>NaN</td>\n      <td>NaN</td>\n      <td>NaN</td>\n      <td>NaN</td>\n      <td>NaN</td>\n      <td>NaN</td>\n      <td>https://www.geonames.org | Google Earth | http...</td>\n      <td>NaN</td>\n      <td>Georreferenciado a través de GeoNames, Geoloca...</td>\n      <td>HVoHXv8ifqVeUCAYhiDRTuyKmqixjppKV3bwVx7MAbw=</td>\n    </tr>\n    <tr>\n      <th>107</th>\n      <td>South America | Chile | CL | Valparaíso | ísla...</td>\n      <td>NaN</td>\n      <td>South America</td>\n      <td>Chile</td>\n      <td>CL</td>\n      <td>Valparaíso</td>\n      <td>ísla de Pascua</td>\n      <td>Ocean Islands</td>\n      <td>NaN</td>\n      <td>NaN</td>\n      <td>...</td>\n      <td>78°51'0.000\" W</td>\n      <td>degrees minutes seconds</td>\n      <td>NaN</td>\n      <td>M. Treumun</td>\n      <td>2018-09-07</td>\n      <td>NaN</td>\n      <td>NaN</td>\n      <td>NaN</td>\n      <td>En base a la localidad</td>\n      <td>YCgWdFqJbtrW1Yv4keFu6Ld+IpjfOChW5WP7u/oYAoM=</td>\n    </tr>\n    <tr>\n      <th>108</th>\n      <td>South-Eastern Pacific Ocean</td>\n      <td>South-Eastern Pacific Ocean</td>\n      <td>NaN</td>\n      <td>NaN</td>\n      <td>NaN</td>\n      <td>NaN</td>\n      <td>NaN</td>\n      <td>NaN</td>\n      <td>NaN</td>\n      <td>NaN</td>\n      <td>...</td>\n      <td>NaN</td>\n      <td>NaN</td>\n      <td>NaN</td>\n      <td>NaN</td>\n      <td>NaN</td>\n      <td>NaN</td>\n      <td>NaN</td>\n      <td>NaN</td>\n      <td>NaN</td>\n      <td>/0h1tIuArvSEx1ktY3JjnXCcHGrefNvWljHHsTqfcAs=</td>\n    </tr>\n    <tr>\n      <th>109</th>\n      <td>NaN</td>\n      <td>NaN</td>\n      <td>South America</td>\n      <td>Chile</td>\n      <td>CL</td>\n      <td>Valparaíso</td>\n      <td>Los Andes</td>\n      <td>Los Andes</td>\n      <td>NaN</td>\n      <td>NaN</td>\n      <td>...</td>\n      <td>NaN</td>\n      <td>NaN</td>\n      <td>NaN</td>\n      <td>NaN</td>\n      <td>NaN</td>\n      <td>NaN</td>\n      <td>https://www.geonames.org | Google Earth | http...</td>\n      <td>NaN</td>\n      <td>Georreferenciado a través de GeoNames, Geoloca...</td>\n      <td>0pjicG7PG7L8583buCEHxwZEMaMUaysKt+Cjr4B+Edk=</td>\n    </tr>\n  </tbody>\n</table>\n<p>110 rows × 38 columns</p>\n</div>"
     },
     "metadata": {},
     "execution_count": 7
    }
   ],
   "source": [
    "data"
   ]
  },
  {
   "cell_type": "code",
   "execution_count": 8,
   "metadata": {},
   "outputs": [],
   "source": [
    "driver.quit()"
   ]
  }
 ],
 "metadata": {
  "kernelspec": {
   "display_name": "project_ML",
   "language": "python",
   "name": "project_ml"
  },
  "language_info": {
   "codemirror_mode": {
    "name": "ipython",
    "version": 3
   },
   "file_extension": ".py",
   "mimetype": "text/x-python",
   "name": "python",
   "nbconvert_exporter": "python",
   "pygments_lexer": "ipython3",
   "version": "3.8.2-final"
  }
 },
 "nbformat": 4,
 "nbformat_minor": 4
}