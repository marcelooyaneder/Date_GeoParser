{
 "cells": [
  {
   "cell_type": "markdown",
   "metadata": {},
   "source": [
    "# MANUAL SKETCHBOOK\n",
    "\n",
    "## PREPARACIÓN \n",
    "\n",
    "### Python 3.X\n",
    "\n",
    "https://www.python.org/downloads/\n",
    "\n",
    "### Librerias necesarias\n",
    "\n",
    "- selenium\n",
    "- utm\n",
    "- requests\n",
    "- pandas\n",
    "- numpy\n",
    "\n",
    "### Chrome-driver\n",
    "\n",
    "https://chromedriver.storage.googleapis.com/index.html?path=89.0.4389.23/\n",
    "\n",
    "## ORGANIZACIÓN DE LA BASE DE DATOS \n",
    "\n",
    "La realización de esto se hará en base al siguiente documento https://docs.gbif-uat.org/georeferencing-quick-reference-guide/1.0/en/georeferencing-quick-reference-guide-community-review-draft.en.pdf (punto 1.5)\n",
    "\n",
    "En resumen, tendremos dos posibles casos de georreferenciación.\n",
    "\n",
    "El primero corresponde a la existencia de un punto con coordenadas geograficas definidas, por lo que es necesario rellenar los siguientes campos\n",
    "- verbatimLatitude\n",
    "- verbatimLongitude\n",
    "- verbatimSRS\n",
    "\n",
    "\n",
    "## PROCESAMIENTO DE LA BASE DE DATOS\n",
    "\n",
    "## AUTOMATIZACIÓN DE \"GEOREFERENCING CALCULATOR\"\n",
    "\n",
    "## POST PROCESAMIENTO DE LA BASE DE DATOS\n",
    "\n",
    "## EXPORTAR BASE DE DATOS"
   ]
  },
  {
   "cell_type": "markdown",
   "metadata": {},
   "source": [
    "\n",
    "    "
   ]
  },
  {
   "cell_type": "code",
   "execution_count": 1,
   "metadata": {},
   "outputs": [],
   "source": [
    "from GeoParser import *\n",
    "import pandas as pd\n",
    "#pd.set_option(\"display.max_rows\", None, \"display.max_columns\", None)"
   ]
  },
  {
   "cell_type": "code",
   "execution_count": 2,
   "metadata": {
    "scrolled": true
   },
   "outputs": [
    {
     "data": {
      "text/html": [
       "<div>\n",
       "<style scoped>\n",
       "    .dataframe tbody tr th:only-of-type {\n",
       "        vertical-align: middle;\n",
       "    }\n",
       "\n",
       "    .dataframe tbody tr th {\n",
       "        vertical-align: top;\n",
       "    }\n",
       "\n",
       "    .dataframe thead th {\n",
       "        text-align: right;\n",
       "    }\n",
       "</style>\n",
       "<table border=\"1\" class=\"dataframe\">\n",
       "  <thead>\n",
       "    <tr style=\"text-align: right;\">\n",
       "      <th></th>\n",
       "      <th>Unnamed: 0</th>\n",
       "      <th>decimalLongitude</th>\n",
       "      <th>decimalLatitude</th>\n",
       "      <th>verbatimSRS</th>\n",
       "      <th>geodeticDatum</th>\n",
       "      <th>continent</th>\n",
       "      <th>country</th>\n",
       "      <th>countryCode</th>\n",
       "      <th>stateProvince</th>\n",
       "      <th>county</th>\n",
       "      <th>municipality</th>\n",
       "      <th>verbatimCoordinates</th>\n",
       "      <th>verbatimCoordinateSystem</th>\n",
       "      <th>dynamicProperties</th>\n",
       "    </tr>\n",
       "  </thead>\n",
       "  <tbody>\n",
       "    <tr>\n",
       "      <th>0</th>\n",
       "      <td>1</td>\n",
       "      <td>-37.985806</td>\n",
       "      <td>-73.270090</td>\n",
       "      <td>unknown</td>\n",
       "      <td>unknown</td>\n",
       "      <td>NaN</td>\n",
       "      <td>NaN</td>\n",
       "      <td>NaN</td>\n",
       "      <td>NaN</td>\n",
       "      <td>NaN</td>\n",
       "      <td>NaN</td>\n",
       "      <td>-73.27009 -37.985806</td>\n",
       "      <td>decimal degrees</td>\n",
       "      <td>{'textFieldMeasurementError': 30, 'ChoiceDistU...</td>\n",
       "    </tr>\n",
       "    <tr>\n",
       "      <th>1</th>\n",
       "      <td>2</td>\n",
       "      <td>-37.962703</td>\n",
       "      <td>-73.250557</td>\n",
       "      <td>unknown</td>\n",
       "      <td>unknown</td>\n",
       "      <td>NaN</td>\n",
       "      <td>NaN</td>\n",
       "      <td>NaN</td>\n",
       "      <td>NaN</td>\n",
       "      <td>NaN</td>\n",
       "      <td>NaN</td>\n",
       "      <td>-73.250557 -37.962703</td>\n",
       "      <td>decimal degrees</td>\n",
       "      <td>{'textFieldMeasurementError': 30, 'ChoiceDistU...</td>\n",
       "    </tr>\n",
       "  </tbody>\n",
       "</table>\n",
       "</div>"
      ],
      "text/plain": [
       "   Unnamed: 0  decimalLongitude  decimalLatitude verbatimSRS geodeticDatum  \\\n",
       "0           1        -37.985806       -73.270090     unknown       unknown   \n",
       "1           2        -37.962703       -73.250557     unknown       unknown   \n",
       "\n",
       "   continent  country  countryCode  stateProvince  county  municipality  \\\n",
       "0        NaN      NaN          NaN            NaN     NaN           NaN   \n",
       "1        NaN      NaN          NaN            NaN     NaN           NaN   \n",
       "\n",
       "     verbatimCoordinates verbatimCoordinateSystem  \\\n",
       "0   -73.27009 -37.985806          decimal degrees   \n",
       "1  -73.250557 -37.962703          decimal degrees   \n",
       "\n",
       "                                   dynamicProperties  \n",
       "0  {'textFieldMeasurementError': 30, 'ChoiceDistU...  \n",
       "1  {'textFieldMeasurementError': 30, 'ChoiceDistU...  "
      ]
     },
     "execution_count": 2,
     "metadata": {},
     "output_type": "execute_result"
    }
   ],
   "source": [
    "data=pd.read_csv(\"setCoordinatesPeces.csv\")\n",
    "#data[\"geodeticDatum\"]=\"(WGS84) World Geodetic System 1984\"\n",
    "#data[\"verbatimSRS\"]=\"(WGS84) World Geodetic System 1984\"\n",
    "data[\"verbatimCoordinateSystem\"]=\"decimal degrees\"\n",
    "#data[\"decimalLongitude\"]=pd.NA\n",
    "data[\"dynamicProperties\"]=str({\"textFieldMeasurementError\": 30,\"ChoiceDistUnits\": \"m\", \"ChoiceCoordSource\": \"GPS\", \"TextFieldExtent\": 0})\n",
    "#data.verbatimLatitude=data.verbatimLatitude.replace('\"S\"','\" S')\n",
    "#data.verbatimLongitude=data.verbatimLongitude.replace('O\"',' \"O')\n",
    "#data.verbatimLongitude=data.verbatimLongitude.replace('W\"',' \"W')\n",
    "data.head(2)"
   ]
  },
  {
   "cell_type": "code",
   "execution_count": null,
   "metadata": {},
   "outputs": [],
   "source": [
    "%%time\n",
    "#Testing...\n",
    "DBPrep(data).verbatim_coordinates_autocomplete()\n",
    "DBPrep(data).verbatim_coordinate_system_autocomplete()\n",
    "DBPrep(data).verbatim_latitude_longitude_autocomplete()\n",
    "#DBPrep(data).coordinate_precision_autocomplete() Deprecated function implemented on GeorefCalculator"
   ]
  },
  {
   "cell_type": "code",
   "execution_count": 3,
   "metadata": {},
   "outputs": [
    {
     "name": "stdout",
     "output_type": "stream",
     "text": [
      "register 1 of 27\n",
      "register 2 of 27\n",
      "register 3 of 27\n",
      "register 4 of 27\n",
      "register 5 of 27\n",
      "register 6 of 27\n",
      "register 7 of 27\n",
      "register 8 of 27\n",
      "register 9 of 27\n",
      "register 10 of 27\n",
      "register 11 of 27\n",
      "register 12 of 27\n",
      "register 13 of 27\n",
      "register 14 of 27\n",
      "register 15 of 27\n",
      "register 16 of 27\n",
      "register 17 of 27\n",
      "register 18 of 27\n",
      "register 19 of 27\n",
      "register 20 of 27\n",
      "register 21 of 27\n",
      "register 22 of 27\n",
      "register 23 of 27\n",
      "register 24 of 27\n",
      "register 25 of 27\n",
      "register 26 of 27\n",
      "register 27 of 27\n"
     ]
    }
   ],
   "source": [
    "data_pep=data.query(\"decimalLatitude.notna() and decimalLongitude.notna() \")\n",
    "for index in data_pep.index:\n",
    "    print(f\"register {index+1} of {len(data_pep)}\")\n",
    "    verbatimLatitude=data_pep.loc[index,\"decimalLatitude\"]\n",
    "    verbatimLongitude=data_pep.loc[index,\"decimalLongitude\"]\n",
    "    dynamicProperties=data_pep.loc[index,\"dynamicProperties\"]\n",
    "    verbatimCoordinteSystem=\"decimal degrees\"\n",
    "    verbatimSRS=data_pep.loc[index,\"geodeticDatum\"]\n",
    "    SeleniumGeoref(verbatimCoordinteSystem,verbatimLatitude,verbatimLongitude,dynamicProperties,verbatimSRS).georeferencer()\n",
    "    result_dict=SeleniumGeoref(verbatimCoordinteSystem,verbatimLatitude,verbatimLongitude,dynamicProperties,verbatimSRS).get_results()\n",
    "    for keys in result_dict.keys():\n",
    "        data.loc[index,keys]=result_dict[keys]\n",
    "    "
   ]
  },
  {
   "cell_type": "code",
   "execution_count": null,
   "metadata": {},
   "outputs": [],
   "source": [
    "data_pep=data.query(\"verbatimLatitude.notna() and verbatimLongitude.notna() \")\n",
    "\n",
    "for index in data_pep.index:\n",
    "    print(f\"register {index+1} of {len(data_pep)}\")\n",
    "    verbatimLatitude=data_pep.loc[index,\"verbatimLatitude\"]\n",
    "    verbatimLongitude=data_pep.loc[index,\"verbatimLongitude\"]\n",
    "    dynamicProperties=data_pep.loc[index,\"dynamicProperties\"]\n",
    "    verbatimCoordinteSystem=data_pep.loc[index,\"verbatimCoordinateSystem\"]\n",
    "    verbatimSRS=data_pep.loc[index,\"verbatimSRS\"]\n",
    "    SeleniumGeoref(verbatimCoordinteSystem,verbatimLatitude,verbatimLongitude,dynamicProperties,verbatimSRS).georeferencer()\n",
    "    result_dict=SeleniumGeoref(verbatimCoordinteSystem,verbatimLatitude,verbatimLongitude,dynamicProperties,verbatimSRS).get_results()\n",
    "    for keys in result_dict.keys():\n",
    "        data.loc[index,keys]=result_dict[keys]\n",
    "driver.quit()"
   ]
  },
  {
   "cell_type": "code",
   "execution_count": 4,
   "metadata": {},
   "outputs": [
    {
     "ename": "KeyError",
     "evalue": "\"None of ['country'] are in the columns\"",
     "output_type": "error",
     "traceback": [
      "\u001b[1;31m---------------------------------------------------------------------------\u001b[0m",
      "\u001b[1;31mKeyError\u001b[0m                                  Traceback (most recent call last)",
      "File \u001b[1;32m<timed exec>:6\u001b[0m\n",
      "File \u001b[1;32mc:\\Users\\oyane\\OneDrive\\Documentos\\GitHub\\Date_GeoParser\\GeoParser\\GeoParser.py:1022\u001b[0m, in \u001b[0;36mCoordTransform.continent_autocomplete\u001b[1;34m(self)\u001b[0m\n\u001b[0;32m   1018\u001b[0m \u001b[39m\"\"\"\u001b[39;00m\n\u001b[0;32m   1019\u001b[0m \u001b[39mfill continent based on country data\u001b[39;00m\n\u001b[0;32m   1020\u001b[0m \u001b[39m\"\"\"\u001b[39;00m\n\u001b[0;32m   1021\u001b[0m country_data\u001b[39m=\u001b[39mpd\u001b[39m.\u001b[39mread_csv(\u001b[39m\"\u001b[39m\u001b[39mhttps://raw.githubusercontent.com/VertNet/DwCVocabs/master/vocabs/countryCode_country_continent_merged.csv\u001b[39m\u001b[39m\"\u001b[39m)\n\u001b[1;32m-> 1022\u001b[0m country_data\u001b[39m.\u001b[39;49mset_index(\u001b[39m\"\u001b[39;49m\u001b[39mcountry\u001b[39;49m\u001b[39m\"\u001b[39;49m,inplace\u001b[39m=\u001b[39;49m\u001b[39mTrue\u001b[39;49;00m)\n\u001b[0;32m   1023\u001b[0m country_data_dict\u001b[39m=\u001b[39mcountry_data\u001b[39m.\u001b[39mto_dict()\n\u001b[0;32m   1024\u001b[0m \u001b[39mif\u001b[39;00m \u001b[39mset\u001b[39m([\u001b[39m'\u001b[39m\u001b[39mcountry\u001b[39m\u001b[39m'\u001b[39m])\u001b[39m.\u001b[39missubset(\u001b[39mset\u001b[39m(\u001b[39mself\u001b[39m\u001b[39m.\u001b[39mdata\u001b[39m.\u001b[39mcolumns\u001b[39m.\u001b[39mto_list())) \u001b[39mis\u001b[39;00m \u001b[39mTrue\u001b[39;00m:\n",
      "File \u001b[1;32mc:\\Users\\oyane\\anaconda3\\envs\\dataScience\\lib\\site-packages\\pandas\\util\\_decorators.py:311\u001b[0m, in \u001b[0;36mdeprecate_nonkeyword_arguments.<locals>.decorate.<locals>.wrapper\u001b[1;34m(*args, **kwargs)\u001b[0m\n\u001b[0;32m    305\u001b[0m \u001b[39mif\u001b[39;00m \u001b[39mlen\u001b[39m(args) \u001b[39m>\u001b[39m num_allow_args:\n\u001b[0;32m    306\u001b[0m     warnings\u001b[39m.\u001b[39mwarn(\n\u001b[0;32m    307\u001b[0m         msg\u001b[39m.\u001b[39mformat(arguments\u001b[39m=\u001b[39marguments),\n\u001b[0;32m    308\u001b[0m         \u001b[39mFutureWarning\u001b[39;00m,\n\u001b[0;32m    309\u001b[0m         stacklevel\u001b[39m=\u001b[39mstacklevel,\n\u001b[0;32m    310\u001b[0m     )\n\u001b[1;32m--> 311\u001b[0m \u001b[39mreturn\u001b[39;00m func(\u001b[39m*\u001b[39margs, \u001b[39m*\u001b[39m\u001b[39m*\u001b[39mkwargs)\n",
      "File \u001b[1;32mc:\\Users\\oyane\\anaconda3\\envs\\dataScience\\lib\\site-packages\\pandas\\core\\frame.py:5494\u001b[0m, in \u001b[0;36mDataFrame.set_index\u001b[1;34m(self, keys, drop, append, inplace, verify_integrity)\u001b[0m\n\u001b[0;32m   5491\u001b[0m                 missing\u001b[39m.\u001b[39mappend(col)\n\u001b[0;32m   5493\u001b[0m \u001b[39mif\u001b[39;00m missing:\n\u001b[1;32m-> 5494\u001b[0m     \u001b[39mraise\u001b[39;00m \u001b[39mKeyError\u001b[39;00m(\u001b[39mf\u001b[39m\u001b[39m\"\u001b[39m\u001b[39mNone of \u001b[39m\u001b[39m{\u001b[39;00mmissing\u001b[39m}\u001b[39;00m\u001b[39m are in the columns\u001b[39m\u001b[39m\"\u001b[39m)\n\u001b[0;32m   5496\u001b[0m \u001b[39mif\u001b[39;00m inplace:\n\u001b[0;32m   5497\u001b[0m     frame \u001b[39m=\u001b[39m \u001b[39mself\u001b[39m\n",
      "\u001b[1;31mKeyError\u001b[0m: \"None of ['country'] are in the columns\""
     ]
    }
   ],
   "source": [
    "%%time\n",
    "# Testing ...\n",
    "#coord_transform(data).utm_to_dg() Deprecated function implemented on GeorefCalculator\n",
    "#CoordTransform(data).dms_to_dg() Deprecated function implemented on GeorefCalculator\n",
    "#CoordTransform(data).geodetic_datum_autocomplete()  Deprecated function implemented on GeorefCalculator\n",
    "CoordTransform(data).location_autocomplete() \n",
    "CoordTransform(data).continent_autocomplete() \n",
    "CoordTransform(data).higher_geography_autocomplete()"
   ]
  },
  {
   "cell_type": "code",
   "execution_count": 5,
   "metadata": {},
   "outputs": [],
   "source": [
    "data.to_csv(\"resultadosGeorrefPeces.csv\")"
   ]
  },
  {
   "cell_type": "code",
   "execution_count": null,
   "metadata": {},
   "outputs": [],
   "source": [
    "list1=data.query('minimumElevationInMeters.isnull() and maximumElevationInMeters.isnull() and decimalLatitude.notnull() and decimalLongitude.notnull()').index.tolist()"
   ]
  },
  {
   "cell_type": "code",
   "execution_count": null,
   "metadata": {},
   "outputs": [],
   "source": [
    "CoordTransform(data).elevation_autocomplete() "
   ]
  },
  {
   "cell_type": "code",
   "execution_count": null,
   "metadata": {
    "scrolled": true
   },
   "outputs": [],
   "source": [
    "list2=data.query('minimumElevationInMeters.notnull() and maximumElevationInMeters.notnull() and decimalLatitude.notnull() and decimalLongitude.notnull()').index.tolist()"
   ]
  },
  {
   "cell_type": "code",
   "execution_count": null,
   "metadata": {},
   "outputs": [],
   "source": [
    "list(set(list1) - set(list2))"
   ]
  },
  {
   "cell_type": "code",
   "execution_count": null,
   "metadata": {},
   "outputs": [],
   "source": [
    "data.to_csv()"
   ]
  }
 ],
 "metadata": {
  "kernelspec": {
   "display_name": "Python 3.10.6 ('dataScience')",
   "language": "python",
   "name": "python3"
  },
  "language_info": {
   "codemirror_mode": {
    "name": "ipython",
    "version": 3
   },
   "file_extension": ".py",
   "mimetype": "text/x-python",
   "name": "python",
   "nbconvert_exporter": "python",
   "pygments_lexer": "ipython3",
   "version": "3.10.6"
  },
  "vscode": {
   "interpreter": {
    "hash": "718fd0d3675b96836e59f8a5088cebb924a5d9f3545720b325161445753c1e01"
   }
  }
 },
 "nbformat": 4,
 "nbformat_minor": 4
}
